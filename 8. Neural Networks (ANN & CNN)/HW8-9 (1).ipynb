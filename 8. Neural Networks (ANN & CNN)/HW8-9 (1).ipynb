{
 "cells": [
  {
   "cell_type": "code",
   "execution_count": 1,
   "metadata": {
    "id": "TTF4iRVqL9yy"
   },
   "outputs": [],
   "source": [
    "import numpy as np\n",
    "import pandas as pd\n",
    "from math import exp"
   ]
  },
  {
   "cell_type": "code",
   "execution_count": 2,
   "metadata": {
    "id": "GXSmHkMPMQVq"
   },
   "outputs": [],
   "source": [
    "InputNodes = 2\n",
    "HiddenNodes = 2\n",
    "OutputNodes = 1\n",
    "\n",
    "Input = np.array([[0,0],\n",
    "                  [0,1],\n",
    "                  [1,0],\n",
    "                  [1,1]])\n",
    "\n",
    "Target = np.array([[0],\n",
    "                   [1],\n",
    "                   [1],\n",
    "                   [0]])"
   ]
  },
  {
   "cell_type": "code",
   "execution_count": 3,
   "metadata": {
    "id": "l0AoZUHiNHob"
   },
   "outputs": [],
   "source": [
    "np.random.seed(0)\n",
    "w1 = np.random.uniform(-0.1, 0.1, (2, 2))  # Weights for input to hidden layer\n",
    "b1 = np.random.uniform(-0.1, 0.1, (1, 2))  # Biases for hidden layer\n",
    "w2 = np.random.uniform(-0.1, 0.1, (2, 1))  # Weights for hidden layer to output\n",
    "b2 = np.random.uniform(-0.1, 0.1, (1, 1))  # Biases for output layer"
   ]
  },
  {
   "cell_type": "code",
   "execution_count": 4,
   "metadata": {
    "id": "I_XTf_0zOJDI"
   },
   "outputs": [],
   "source": [
    "learning_rate = 0.1"
   ]
  },
  {
   "cell_type": "code",
   "execution_count": 5,
   "metadata": {
    "id": "0j86gKo-OO-Y"
   },
   "outputs": [],
   "source": [
    "# Compute the sigmoid activation function for input x\n",
    "def sigmoid(x):\n",
    "    return 1 / (1 + np.exp(-x))  \n",
    "\n",
    "# Compute the derivative of the sigmoid function for input sigmoid(x) \n",
    "# Note that we are passing sigmoid(x), not x, to the function\n",
    "def sigmoid_derivative(s_x):\n",
    "    return np.multiply(s_x, np.subtract(1.0, s_x))  "
   ]
  },
  {
   "cell_type": "markdown",
   "metadata": {
    "id": "RAMKX-0HtQD4"
   },
   "source": [
    "This is the main training process"
   ]
  },
  {
   "cell_type": "code",
   "execution_count": 6,
   "metadata": {
    "colab": {
     "base_uri": "https://localhost:8080/"
    },
    "executionInfo": {
     "elapsed": 9291,
     "status": "ok",
     "timestamp": 1685081828694,
     "user": {
      "displayName": "Yen-Kuang Chen",
      "userId": "09824706370308406166"
     },
     "user_tz": 420
    },
    "id": "Il50-RJPOTo8",
    "outputId": "da5274f9-0c4a-4f34-f28f-050157e0c501"
   },
   "outputs": [
    {
     "name": "stdout",
     "output_type": "stream",
     "text": [
      "Earlier termination on epoch: 19660\n"
     ]
    }
   ],
   "source": [
    "for epoch in range(100000):\n",
    "    perm = np.random.permutation(len(Input))\n",
    "    Input = Input[perm]\n",
    "    Target = Target[perm]\n",
    "\n",
    "    total_error = 0\n",
    "\n",
    "    for i in range(len(Input)):\n",
    "        # To-Do\n",
    "        # Forward pass\n",
    "        # calculate the hidden_layer activation\n",
    "        hidden_input = np.dot(Input[i], w1) + b1\n",
    "        hidden_layer = sigmoid(hidden_input)\n",
    "        \n",
    "        # calculate the output_layer activation\n",
    "        output_inp = np.dot(hidden_layer, w2) + b2\n",
    "        output_layer = sigmoid(output_inp)\n",
    "        \n",
    "        # Calculate error\n",
    "        # compare the target[i] with output_layer activation\n",
    "        # adding errors to total_error\n",
    "        error = Target[i] - output_layer\n",
    "        total_error = total_error + np.sum(error**2)\n",
    "        \n",
    "        # Backpropagation\n",
    "        # compute the output_layer_delta\n",
    "        output_layer_delta = error * sigmoid_derivative(output_layer)\n",
    "        \n",
    "        # compute the hidden_layer_delta\n",
    "        hidden_layer_delta = np.dot(output_layer_delta, w2.T) * sigmoid_derivative(hidden_layer)\n",
    "        \n",
    "        # Update weights and biases\n",
    "        # update the weights with activation, delta, and the learning rate\n",
    "        w2 += learning_rate * np.outer(hidden_layer, output_layer_delta)\n",
    "        b2 += learning_rate * output_layer_delta\n",
    "        \n",
    "        w1 += learning_rate * np.outer(Input[i], hidden_layer_delta)\n",
    "        b1 += learning_rate * hidden_layer_delta\n",
    "        \n",
    "    # Check if error is less than 0.25\n",
    "    if total_error < 0.25:\n",
    "        print (\"Earlier termination on epoch:\", epoch)\n",
    "        break"
   ]
  },
  {
   "cell_type": "markdown",
   "metadata": {
    "id": "X4Kn0z6VtETw"
   },
   "source": [
    "Output the learned function for the 4 inputs"
   ]
  },
  {
   "cell_type": "code",
   "execution_count": 7,
   "metadata": {
    "colab": {
     "base_uri": "https://localhost:8080/"
    },
    "executionInfo": {
     "elapsed": 10,
     "status": "ok",
     "timestamp": 1685081828695,
     "user": {
      "displayName": "Yen-Kuang Chen",
      "userId": "09824706370308406166"
     },
     "user_tz": 420
    },
    "id": "0ggyQvRumJvC",
    "outputId": "cf5ba151-9913-423a-fa95-2de2eb2e4e85"
   },
   "outputs": [
    {
     "name": "stdout",
     "output_type": "stream",
     "text": [
      "[1 0] [[0.77000114]]\n",
      "[1 1] [[0.34811437]]\n",
      "[0 1] [[0.76988032]]\n",
      "[0 0] [[0.14167664]]\n"
     ]
    }
   ],
   "source": [
    "   for i in range(len(Input)):\n",
    "        # Forward pass\n",
    "        # calculate the hidden_layer activation\n",
    "        hidden_input = np.dot(Input[i], w1) + b1\n",
    "        hidden_output = sigmoid(hidden_input)\n",
    "        # calculate the output_layer activation\n",
    "        output_inp = np.dot(hidden_output, w2) + b2\n",
    "        output_layer = sigmoid(output_inp)\n",
    "        # print the input[i] and the learned output \n",
    "        print (Input[i],output_layer)"
   ]
  },
  {
   "cell_type": "code",
   "execution_count": 8,
   "metadata": {
    "colab": {
     "base_uri": "https://localhost:8080/"
    },
    "executionInfo": {
     "elapsed": 8,
     "status": "ok",
     "timestamp": 1685081828696,
     "user": {
      "displayName": "Yen-Kuang Chen",
      "userId": "09824706370308406166"
     },
     "user_tz": 420
    },
    "id": "DiA8YdtXOuUh",
    "outputId": "ea595947-a6bc-46db-e146-68bc4475fb24"
   },
   "outputs": [
    {
     "name": "stdout",
     "output_type": "stream",
     "text": [
      "Final weights (w1):\n",
      " [[-4.99131392 -2.11626152]\n",
      " [-5.00086726 -2.11826092]]\n",
      "Final weights (b1):\n",
      " [[1.24760675 2.77536569]]\n",
      "Final weights (w2):\n",
      " [[-5.555635  ]\n",
      " [ 4.17293745]]\n",
      "Final weights (b2):\n",
      " [[-1.41345375]]\n"
     ]
    }
   ],
   "source": [
    "print(\"Final weights (w1):\\n\", w1)\n",
    "print(\"Final weights (b1):\\n\", b1)\n",
    "print(\"Final weights (w2):\\n\", w2)\n",
    "print(\"Final weights (b2):\\n\", b2)"
   ]
  },
  {
   "cell_type": "code",
   "execution_count": null,
   "metadata": {},
   "outputs": [],
   "source": []
  }
 ],
 "metadata": {
  "colab": {
   "provenance": []
  },
  "kernelspec": {
   "display_name": "Python 3 (ipykernel)",
   "language": "python",
   "name": "python3"
  },
  "language_info": {
   "codemirror_mode": {
    "name": "ipython",
    "version": 3
   },
   "file_extension": ".py",
   "mimetype": "text/x-python",
   "name": "python",
   "nbconvert_exporter": "python",
   "pygments_lexer": "ipython3",
   "version": "3.9.12"
  }
 },
 "nbformat": 4,
 "nbformat_minor": 1
}
