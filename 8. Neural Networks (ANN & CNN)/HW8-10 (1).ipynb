{
 "cells": [
  {
   "cell_type": "markdown",
   "metadata": {
    "id": "JmeTNIkv_U3J"
   },
   "source": [
    "# Simple CNN for MNIST \n"
   ]
  },
  {
   "cell_type": "markdown",
   "metadata": {
    "id": "D-xWqYId_U3M"
   },
   "source": [
    "## Setup"
   ]
  },
  {
   "cell_type": "code",
   "execution_count": 1,
   "metadata": {
    "id": "Fx2kxhdh_U3N"
   },
   "outputs": [],
   "source": [
    "import numpy as np\n",
    "from tensorflow import keras\n",
    "from tensorflow.keras import layers"
   ]
  },
  {
   "cell_type": "markdown",
   "metadata": {
    "id": "dq6m6gFl_U3O"
   },
   "source": [
    "## Prepare the data"
   ]
  },
  {
   "cell_type": "code",
   "execution_count": 2,
   "metadata": {
    "id": "50ZpbPVg_U3O"
   },
   "outputs": [
    {
     "name": "stdout",
     "output_type": "stream",
     "text": [
      "Downloading data from https://storage.googleapis.com/tensorflow/tf-keras-datasets/mnist.npz\n",
      "11490434/11490434 [==============================] - 2s 0us/step\n",
      "x_train shape: (60000, 28, 28, 1)\n",
      "60000 train samples\n",
      "10000 test samples\n"
     ]
    }
   ],
   "source": [
    "# Model / data parameters\n",
    "num_classes = 10\n",
    "input_shape = (28, 28, 1)\n",
    "\n",
    "# Load the data and split it between train and test sets\n",
    "(x_train, y_train), (x_test, y_test) = keras.datasets.mnist.load_data()\n",
    "\n",
    "# Scale images to the [0, 1] range\n",
    "x_train = x_train.astype(\"float32\") / 255\n",
    "x_test = x_test.astype(\"float32\") / 255\n",
    "# Make sure images have shape (28, 28, 1)\n",
    "x_train = np.expand_dims(x_train, -1)\n",
    "x_test = np.expand_dims(x_test, -1)\n",
    "print(\"x_train shape:\", x_train.shape)\n",
    "print(x_train.shape[0], \"train samples\")\n",
    "print(x_test.shape[0], \"test samples\")\n",
    "\n",
    "\n",
    "# convert class vectors to binary class matrices\n",
    "y_train = keras.utils.to_categorical(y_train, num_classes)\n",
    "y_test = keras.utils.to_categorical(y_test, num_classes)"
   ]
  },
  {
   "cell_type": "markdown",
   "metadata": {
    "id": "cMBBjbgD_U3P"
   },
   "source": [
    "## Build the model"
   ]
  },
  {
   "cell_type": "code",
   "execution_count": 3,
   "metadata": {
    "id": "iBoQzBB9_U3Q"
   },
   "outputs": [
    {
     "name": "stdout",
     "output_type": "stream",
     "text": [
      "Model: \"sequential\"\n",
      "_________________________________________________________________\n",
      " Layer (type)                Output Shape              Param #   \n",
      "=================================================================\n",
      " conv2d (Conv2D)             (None, 26, 26, 8)         80        \n",
      "                                                                 \n",
      " max_pooling2d (MaxPooling2D  (None, 13, 13, 8)        0         \n",
      " )                                                               \n",
      "                                                                 \n",
      " conv2d_1 (Conv2D)           (None, 11, 11, 16)        1168      \n",
      "                                                                 \n",
      " max_pooling2d_1 (MaxPooling  (None, 5, 5, 16)         0         \n",
      " 2D)                                                             \n",
      "                                                                 \n",
      " flatten (Flatten)           (None, 400)               0         \n",
      "                                                                 \n",
      " dropout (Dropout)           (None, 400)               0         \n",
      "                                                                 \n",
      " dense (Dense)               (None, 10)                4010      \n",
      "                                                                 \n",
      "=================================================================\n",
      "Total params: 5,258\n",
      "Trainable params: 5,258\n",
      "Non-trainable params: 0\n",
      "_________________________________________________________________\n"
     ]
    }
   ],
   "source": [
    "model = keras.Sequential(\n",
    "    [\n",
    "        # To-do\n",
    "        keras.Input(shape=input_shape),  # Define the input shape of the model\n",
    "        # Add a convolutional layer with 8 filters and ReLU activation\n",
    "        layers.Conv2D(8, kernel_size=(3, 3), activation=\"relu\"),\n",
    "        # Add a max pooling layer with pool size 2x2\n",
    "        layers.MaxPooling2D(pool_size=(2, 2)), \n",
    "        # Add another convolutional layer with 16 filters and ReLU activation\n",
    "        layers.Conv2D(16, kernel_size=(3, 3), activation=\"relu\"), \n",
    "        # Add another max pooling layer with pool size 2x2\n",
    "        layers.MaxPooling2D(pool_size=(2, 2)), \n",
    "        # Flatten the 2D feature maps into a 1D vector\n",
    "        layers.Flatten(), \n",
    "        # Apply dropout regularization with a rate of 0.5\n",
    "        layers.Dropout(0.5), \n",
    "        # Add a dense (fully connected) layer with softmax activation for classification  \n",
    "        layers.Dense(num_classes, activation=\"softmax\"), \n",
    "    ]\n",
    ")\n",
    "\n",
    "model.summary()"
   ]
  },
  {
   "cell_type": "markdown",
   "metadata": {
    "id": "3_cFZMbv_U3Q"
   },
   "source": [
    "## Train the model"
   ]
  },
  {
   "cell_type": "code",
   "execution_count": 4,
   "metadata": {
    "id": "96th78xc_U3R"
   },
   "outputs": [
    {
     "name": "stdout",
     "output_type": "stream",
     "text": [
      "Epoch 1/15\n",
      "422/422 [==============================] - 9s 18ms/step - loss: 0.7125 - accuracy: 0.7738 - val_loss: 0.1441 - val_accuracy: 0.9627\n",
      "Epoch 2/15\n",
      "422/422 [==============================] - 8s 18ms/step - loss: 0.2326 - accuracy: 0.9288 - val_loss: 0.0930 - val_accuracy: 0.9742\n",
      "Epoch 3/15\n",
      "422/422 [==============================] - 7s 18ms/step - loss: 0.1845 - accuracy: 0.9433 - val_loss: 0.0815 - val_accuracy: 0.9762\n",
      "Epoch 4/15\n",
      "422/422 [==============================] - 8s 18ms/step - loss: 0.1588 - accuracy: 0.9511 - val_loss: 0.0698 - val_accuracy: 0.9790\n",
      "Epoch 5/15\n",
      "422/422 [==============================] - 8s 19ms/step - loss: 0.1437 - accuracy: 0.9547 - val_loss: 0.0653 - val_accuracy: 0.9803\n",
      "Epoch 6/15\n",
      "422/422 [==============================] - 8s 20ms/step - loss: 0.1355 - accuracy: 0.9586 - val_loss: 0.0584 - val_accuracy: 0.9832\n",
      "Epoch 7/15\n",
      "422/422 [==============================] - 8s 20ms/step - loss: 0.1256 - accuracy: 0.9607 - val_loss: 0.0592 - val_accuracy: 0.9833\n",
      "Epoch 8/15\n",
      "422/422 [==============================] - 9s 20ms/step - loss: 0.1219 - accuracy: 0.9628 - val_loss: 0.0527 - val_accuracy: 0.9853\n",
      "Epoch 9/15\n",
      "422/422 [==============================] - 9s 20ms/step - loss: 0.1181 - accuracy: 0.9625 - val_loss: 0.0507 - val_accuracy: 0.9853\n",
      "Epoch 10/15\n",
      "422/422 [==============================] - 8s 20ms/step - loss: 0.1152 - accuracy: 0.9646 - val_loss: 0.0480 - val_accuracy: 0.9868\n",
      "Epoch 11/15\n",
      "422/422 [==============================] - 9s 20ms/step - loss: 0.1100 - accuracy: 0.9657 - val_loss: 0.0479 - val_accuracy: 0.9878\n",
      "Epoch 12/15\n",
      "422/422 [==============================] - 9s 20ms/step - loss: 0.1065 - accuracy: 0.9672 - val_loss: 0.0467 - val_accuracy: 0.9877\n",
      "Epoch 13/15\n",
      "422/422 [==============================] - 10s 24ms/step - loss: 0.1040 - accuracy: 0.9684 - val_loss: 0.0447 - val_accuracy: 0.9883\n",
      "Epoch 14/15\n",
      "422/422 [==============================] - 15s 36ms/step - loss: 0.1035 - accuracy: 0.9678 - val_loss: 0.0444 - val_accuracy: 0.9887\n",
      "Epoch 15/15\n",
      "422/422 [==============================] - 15s 36ms/step - loss: 0.1013 - accuracy: 0.9679 - val_loss: 0.0433 - val_accuracy: 0.9892\n"
     ]
    },
    {
     "data": {
      "text/plain": [
       "<keras.callbacks.History at 0x25b69e2b910>"
      ]
     },
     "execution_count": 4,
     "metadata": {},
     "output_type": "execute_result"
    }
   ],
   "source": [
    "batch_size = 128  # Number of samples per gradient update\n",
    "epochs = 15  # Number of times to iterate over the entire training dataset\n",
    "\n",
    "# Configure the model for training\n",
    "model.compile(loss=\"categorical_crossentropy\", optimizer=\"adam\", metrics=[\"accuracy\"])  \n",
    "\n",
    "# Train the model on the training data\n",
    "model.fit(x_train, y_train, batch_size=batch_size, epochs=epochs, validation_split=0.1)\n",
    "# x_train: input training data\n",
    "# y_train: target training data\n",
    "# batch_size: number of samples per gradient update\n",
    "# epochs: number of times to iterate over the entire training dataset\n",
    "# validation_split: the fraction of the training data to be used as validation data during training\n"
   ]
  },
  {
   "cell_type": "markdown",
   "metadata": {
    "id": "mN_ag1mj_U3R"
   },
   "source": [
    "## Evaluate the trained model"
   ]
  },
  {
   "cell_type": "code",
   "execution_count": 5,
   "metadata": {
    "id": "0DyaKNs9_U3S"
   },
   "outputs": [
    {
     "name": "stdout",
     "output_type": "stream",
     "text": [
      "Test accuracy: 0.9851999878883362\n"
     ]
    }
   ],
   "source": [
    "score = model.evaluate(x_test, y_test, verbose=0)\n",
    "print(\"Test accuracy:\", score[1])"
   ]
  }
 ],
 "metadata": {
  "accelerator": "GPU",
  "colab": {
   "gpuType": "T4",
   "provenance": [],
   "toc_visible": true
  },
  "gpuClass": "standard",
  "kernelspec": {
   "display_name": "Python 3 (ipykernel)",
   "language": "python",
   "name": "python3"
  },
  "language_info": {
   "codemirror_mode": {
    "name": "ipython",
    "version": 3
   },
   "file_extension": ".py",
   "mimetype": "text/x-python",
   "name": "python",
   "nbconvert_exporter": "python",
   "pygments_lexer": "ipython3",
   "version": "3.9.12"
  }
 },
 "nbformat": 4,
 "nbformat_minor": 1
}
