{
 "cells": [
  {
   "cell_type": "markdown",
   "metadata": {
    "id": "1Yz9bUaJbWGE"
   },
   "source": [
    "# Linear Regression with Batch Gradient Descent\n",
    "\n",
    "You will train your model using a real world dataset.  The dataset contains a collection of real estate listings in San Luis Obispo county.\n",
    "\n",
    "https://wiki.csc.calpoly.edu/datasets/wiki/Houses\n",
    "\n",
    "To make it simpler for this assignment, the dataset has been slightly modified.  It contains the following fields:\n",
    "\n",
    "1.\tMLS: Multiple listing service number for the house (unique ID).\n",
    "2.\tPrice: the most recent listing price of the house (in dollars).\n",
    "3.\tBedrooms: number of bedrooms.\n",
    "4.\tBathrooms: number of bathrooms.\n",
    "5.\tSize: size of the house in square feet.\n",
    "6.\tPrice/SQ.ft: price of the house per square foot.\n",
    "\n",
    "The model predict the housing price given the square footage of the house.\n"
   ]
  },
  {
   "cell_type": "code",
   "execution_count": 1,
   "metadata": {
    "id": "5rPpln2qbWGG"
   },
   "outputs": [
    {
     "data": {
      "text/html": [
       "<div>\n",
       "<style scoped>\n",
       "    .dataframe tbody tr th:only-of-type {\n",
       "        vertical-align: middle;\n",
       "    }\n",
       "\n",
       "    .dataframe tbody tr th {\n",
       "        vertical-align: top;\n",
       "    }\n",
       "\n",
       "    .dataframe thead th {\n",
       "        text-align: right;\n",
       "    }\n",
       "</style>\n",
       "<table border=\"1\" class=\"dataframe\">\n",
       "  <thead>\n",
       "    <tr style=\"text-align: right;\">\n",
       "      <th></th>\n",
       "      <th>MPLS</th>\n",
       "      <th>Price</th>\n",
       "      <th>Bedrooms</th>\n",
       "      <th>Bathrooms</th>\n",
       "      <th>Size</th>\n",
       "      <th>PriceSq</th>\n",
       "    </tr>\n",
       "  </thead>\n",
       "  <tbody>\n",
       "    <tr>\n",
       "      <th>0</th>\n",
       "      <td>132842</td>\n",
       "      <td>795000</td>\n",
       "      <td>3</td>\n",
       "      <td>3</td>\n",
       "      <td>2371</td>\n",
       "      <td>335.30</td>\n",
       "    </tr>\n",
       "    <tr>\n",
       "      <th>1</th>\n",
       "      <td>134364</td>\n",
       "      <td>399000</td>\n",
       "      <td>4</td>\n",
       "      <td>3</td>\n",
       "      <td>2818</td>\n",
       "      <td>141.59</td>\n",
       "    </tr>\n",
       "    <tr>\n",
       "      <th>2</th>\n",
       "      <td>135141</td>\n",
       "      <td>545000</td>\n",
       "      <td>4</td>\n",
       "      <td>3</td>\n",
       "      <td>3032</td>\n",
       "      <td>179.75</td>\n",
       "    </tr>\n",
       "    <tr>\n",
       "      <th>3</th>\n",
       "      <td>135712</td>\n",
       "      <td>909000</td>\n",
       "      <td>4</td>\n",
       "      <td>4</td>\n",
       "      <td>3540</td>\n",
       "      <td>256.78</td>\n",
       "    </tr>\n",
       "    <tr>\n",
       "      <th>4</th>\n",
       "      <td>136282</td>\n",
       "      <td>109900</td>\n",
       "      <td>3</td>\n",
       "      <td>1</td>\n",
       "      <td>1249</td>\n",
       "      <td>87.99</td>\n",
       "    </tr>\n",
       "  </tbody>\n",
       "</table>\n",
       "</div>"
      ],
      "text/plain": [
       "     MPLS   Price  Bedrooms  Bathrooms  Size  PriceSq\n",
       "0  132842  795000         3          3  2371   335.30\n",
       "1  134364  399000         4          3  2818   141.59\n",
       "2  135141  545000         4          3  3032   179.75\n",
       "3  135712  909000         4          4  3540   256.78\n",
       "4  136282  109900         3          1  1249    87.99"
      ]
     },
     "execution_count": 1,
     "metadata": {},
     "output_type": "execute_result"
    }
   ],
   "source": [
    "import numpy as np\n",
    "import pandas as pd\n",
    "import numpy.matlib\n",
    "import matplotlib.pyplot as plt\n",
    "\n",
    "# read in the housing price data from a CSV file\n",
    "# and store it as a pandas DataFrame object\n",
    "df = pd.read_csv(\"housing_price_data.csv\")\n",
    "\n",
    "df.head() # display the first few rows of the DataFrame to check that the data was read in correctly"
   ]
  },
  {
   "cell_type": "code",
   "execution_count": 2,
   "metadata": {
    "id": "aRqF_u8NbWGM",
    "scrolled": true
   },
   "outputs": [
    {
     "data": {
      "image/png": "[encoded data removed]",
      "text/plain": [
       "<Figure size 432x288 with 1 Axes>"
      ]
     },
     "metadata": {
      "needs_background": "light"
     },
     "output_type": "display_data"
    }
   ],
   "source": [
    "# Plot data points\n",
    "X, y = (df[\"Size\"].values,df[\"Price\"].values)  # extract the Size and Price columns from the DataFrame\n",
    "                                             # and store them as separate NumPy arrays\n",
    "X = X.reshape(len(X),1)  # reshape the Size array into a 2D array with a single column\n",
    "y = y.reshape(len(y),1)  # reshape the Price array into a 2D array with a single column\n",
    "\n",
    "# plots the data points\n",
    "plt.plot(X, y, 'ro')  # plot the data points as red circles\n",
    "plt.xlabel(\"# Square footage\")  # set the x-axis label\n",
    "plt.ylabel(\"Price\")  # set the y-axis label\n",
    "plt.show()  # display the plot"
   ]
  },
  {
   "cell_type": "code",
   "execution_count": 3,
   "metadata": {
    "id": "ROuUVItqbWGR"
   },
   "outputs": [
    {
     "name": "stdout",
     "output_type": "stream",
     "text": [
      "(781, 2)\n",
      "(781, 1)\n"
     ]
    }
   ],
   "source": [
    "# Normalize the house size, e.g., subtract min and divide by (max-min) to ensure \n",
    "# the scale is compatible with the bias, which is 1\n",
    "max_min = X.max(0) - X.min(0)  # calculate the difference between the maximum and minimum values of X \n",
    "                               # for each column (i.e., for each feature)\n",
    "Xmin = X.min(0)  # calculate the minimum value of X for each column\n",
    "X = (X-Xmin) / max_min  # subtract the minimum value from each element of X and divide the result\n",
    "                        # by the range (i.e., the difference between the maximum and minimum values) \n",
    "                        # to normalize the data to a range of [0, 1]\n",
    "\n",
    "# Add bias\n",
    "z=np.ones((len(X),1))  # create a column vector of ones with the same number of rows as X \n",
    "                       # to use as the bias term\n",
    "X = X.reshape(len(X),1)  # reshape X into a 2D array with a single column\n",
    "X = np.concatenate((z,X), axis=1)  # concatenate the column vector of ones with the normalized X values \n",
    "                                    # along the column axis to create the final feature matrix \n",
    "y = y.reshape(len(X),1)  # reshape y into a 2D array with a single column \n",
    "\n",
    "# sort for testing/plotting\n",
    "Xsort = np.sort(X, axis=0)  # sort the feature matrix in ascending order along the row axis \n",
    "                            # (i.e., sort by the first column, which contains the bias term)\n",
    "\n",
    "print(X.shape)  # print the shape of X to check that it has the expected dimensions\n",
    "print(y.shape)  # print the shape of y to check that it has the expected dimensions\n",
    "\n",
    "# For non-vectorized\n",
    "X_train = X[:,1]  # extract the second column of X (i.e., the normalized house size values) \n",
    "                  # and store it as a separate 1D array\n",
    "y_train = y  # store y as-is\n"
   ]
  },
  {
   "cell_type": "markdown",
   "metadata": {
    "id": "nNgLG_ZmbWGW"
   },
   "source": [
    "## Perform gradient descent"
   ]
  },
  {
   "cell_type": "code",
   "execution_count": 4,
   "metadata": {
    "id": "L2KhyZwzbWGX"
   },
   "outputs": [
    {
     "name": "stdout",
     "output_type": "stream",
     "text": [
      "[[0.5881308 ]\n",
      " [0.89771373]]\n",
      "[[ -79538.27526362]\n",
      " [1891035.36605185]]\n"
     ]
    }
   ],
   "source": [
    "# Initialize vector w \n",
    "np.random.seed(20)\n",
    "w = np.random.rand(2,1)\n",
    "print(w)\n",
    "w0 = w[0]\n",
    "w1 = w[1]\n",
    "\n",
    "# Learning rate\n",
    "alpha = 0.0003\n",
    "\n",
    "# Number of epochs\n",
    "MAX_EPOCHS = 2000\n",
    "\n",
    "# Initalize the sum of sqaured error (SSE) array \n",
    "sse_array = []  \n",
    "\n",
    "# Loop for 2000 epochs\n",
    "for itr in range (0, MAX_EPOCHS):\n",
    "    # X_train is 781x1 and y_train is 781x1\n",
    "    X_train = X_train.reshape(781,1)\n",
    "    y_train = y_train.reshape(781,1)\n",
    "  \n",
    "    # To-Do: write update equation\n",
    "    # First, calculate predicted values using the current weights and input values\n",
    "    predicted = w0 + w1 * X_train\n",
    "    # Second, calculate gradients for weights w0 and w1 using the predicted values and actual values\n",
    "    gradient0 = 2 * np.sum(predicted - y_train)\n",
    "    gradient1 = 2 * np.sum((predicted - y_train) * X_train)\n",
    "    # Third, update weights using the gradients and learning rate\n",
    "    w0 -=  alpha * gradient0\n",
    "    w1 -=  alpha * gradient1\n",
    "    # To-Do: compute SSE\n",
    "    # First, calculate the error using predicted values and training values\n",
    "    error = predicted - y_train\n",
    "    # Second, calcuate the sum of the sqaured errors\n",
    "    sse = np.sum(pow(error, 2))\n",
    "    # Store SSE results for the plot\n",
    "    sse_array.append(sse)\n",
    "\n",
    "# If non-vectorized, then need to form w\n",
    "w = np.array([w0,w1])\n",
    "\n",
    "# Print the weight vector w\n",
    "print (w)"
   ]
  },
  {
   "cell_type": "code",
   "execution_count": 5,
   "metadata": {
    "id": "L4hBzd0RbWGa"
   },
   "outputs": [
    {
     "data": {
      "image/png": "[encoded data removed]",
      "text/plain": [
       "<Figure size 432x288 with 1 Axes>"
      ]
     },
     "metadata": {
      "needs_background": "light"
     },
     "output_type": "display_data"
    }
   ],
   "source": [
    "### Plot sse vs iterations\n",
    "plt.plot(sse_array)  #\n",
    "plt.xlabel(\"Epochs\")\n",
    "plt.ylabel(\"SSE\")\n",
    "plt.show()"
   ]
  },
  {
   "cell_type": "code",
   "execution_count": 6,
   "metadata": {
    "id": "-BsghsXObWGf"
   },
   "outputs": [
    {
     "data": {
      "image/png": "[encoded data removed]",
      "text/plain": [
       "<Figure size 432x288 with 1 Axes>"
      ]
     },
     "metadata": {
      "needs_background": "light"
     },
     "output_type": "display_data"
    }
   ],
   "source": [
    "### Plot the fitted curve\n",
    "\n",
    "# Predict the house prices using the learned model\n",
    "yhat = np.dot(np.sort(X, axis=0),w)\n",
    "# Plot the predicted curve with the learned parameters using Gradient Descent\n",
    "plt.plot(Xsort[:,1] * max_min + Xmin, yhat, 'b', label=\"Gradient descent\")\n",
    "\n",
    "# Plot the original data points\n",
    "plt.plot(X[:,1] * max_min + Xmin, y, 'ro')\n",
    "\n",
    "# Add a legend to the plot\n",
    "plt.legend()\n",
    "\n",
    "# Add labels to the x and y axis\n",
    "plt.xlabel(\"# Square footage\")\n",
    "plt.ylabel(\"Price\")\n",
    "\n",
    "plt.show()"
   ]
  },
  {
   "cell_type": "code",
   "execution_count": 7,
   "metadata": {
    "id": "Fw2MXmi4bWGl"
   },
   "outputs": [],
   "source": [
    "# Predict the price of a 4000 sqft house\n",
    "# Remember to normalize it first\n",
    "\n",
    "# To-Do: \n",
    "# First, set size to 4000\n",
    "size = 4000\n",
    "# Second, normalize the size\n",
    "size_n = (size - Xmin) / max_min\n",
    "# Third, using the regression model to compute the house price\n",
    "prediction = w[0] + (w[1] * size_n)"
   ]
  },
  {
   "cell_type": "code",
   "execution_count": 8,
   "metadata": {},
   "outputs": [
    {
     "data": {
      "text/plain": [
       "array([1018847.53615571])"
      ]
     },
     "execution_count": 8,
     "metadata": {},
     "output_type": "execute_result"
    }
   ],
   "source": [
    "prediction"
   ]
  },
  {
   "cell_type": "code",
   "execution_count": 9,
   "metadata": {},
   "outputs": [
    {
     "name": "stdout",
     "output_type": "stream",
     "text": [
      "[1018847.53615571]\n"
     ]
    }
   ],
   "source": [
    "print(prediction)"
   ]
  },
  {
   "cell_type": "code",
   "execution_count": null,
   "metadata": {},
   "outputs": [],
   "source": []
  }
 ],
 "metadata": {
  "accelerator": "TPU",
  "colab": {
   "provenance": []
  },
  "kernelspec": {
   "display_name": "Python 3 (ipykernel)",
   "language": "python",
   "name": "python3"
  },
  "language_info": {
   "codemirror_mode": {
    "name": "ipython",
    "version": 3
   },
   "file_extension": ".py",
   "mimetype": "text/x-python",
   "name": "python",
   "nbconvert_exporter": "python",
   "pygments_lexer": "ipython3",
   "version": "3.9.12"
  }
 },
 "nbformat": 4,
 "nbformat_minor": 1
}
