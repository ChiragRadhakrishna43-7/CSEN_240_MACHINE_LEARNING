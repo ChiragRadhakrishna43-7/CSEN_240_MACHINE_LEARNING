{
 "cells": [
  {
   "cell_type": "code",
   "execution_count": 2,
   "metadata": {
    "id": "59iG8-pHzxdA"
   },
   "outputs": [],
   "source": [
    "#@title This code implements the training of the support vector machine (SVM).\n",
    "\n",
    "from sklearn.svm import SVC # This package will help you run the direct SVM model\n",
    "from sklearn.metrics import accuracy_score # Use accruacy_score to find out accuracy of your model\n",
    "\n",
    "def svm_training(dataset, testing_dataset):\n",
    "    # To-Do\n",
    "    # Extract the x_train, y_train from the training dataset\n",
    "    x_train = [sample[:-1] for sample in dataset]\n",
    "    y_train = [sample[-1] for sample in dataset]\n",
    "    # Extract the x_test, y_test from the training dataset\n",
    "    x_test = [sample[:-1] for sample in testing_dataset]\n",
    "    y_test = [sample[-1] for sample in testing_dataset]\n",
    "    # Use the linear function of the SVM algorithm. Hint: use SVC()\n",
    "    model = SVC(kernel = 'linear')\n",
    "    # Train the model using the x_train and y_train. Hint: use .fit()\n",
    "    model.fit(x_train, y_train)\n",
    "    # Run prediction after training on the testing dataset. Hint: use .predict()\n",
    "    y_predicted = model.predict(x_test)\n",
    "    f_accuracy = accuracy_score(y_test, y_predicted)\n",
    "    # Return your final accuracy. Hint: use accuracy_score()\n",
    "    return f_accuracy"
   ]
  },
  {
   "cell_type": "code",
   "execution_count": 3,
   "metadata": {
    "id": "rxwTZXX6D-hW"
   },
   "outputs": [],
   "source": [
    "def generate_samples(subset):\n",
    "\n",
    "    # Initilize the dataset\n",
    "    Sn = [] # List to store negative samples\n",
    "    Sp = [] # List to store positive samples\n",
    "    num_n = 0 # Counter for negative samples\n",
    "    num_p = 0 # Counter for positive samples\n",
    "\n",
    "    while len(Sp) < 20 or len(Sn) < 20:\n",
    "      i1, i2 = np.random.uniform(-5, 5, 2)\n",
    "      if i1 + i2 >= 0 and len(Sp) < 20:\n",
    "          Sp.append([i1, i2, 1])\n",
    "      elif i1 + i2 < 0 and len(Sn) < 20:\n",
    "          Sn.append([i1, i2, -1])\n",
    "\n",
    "    # Splitting samples into training and testing samples\n",
    "    testing_samples = Sp[10:] + Sn[10:]\n",
    "\n",
    "    # First split: subset of the samples used for training\n",
    "    training_samples = Sp[:subset] + Sn[:subset]\n",
    "\n",
    "    return training_samples, testing_samples"
   ]
  },
  {
   "cell_type": "code",
   "execution_count": 36,
   "metadata": {
    "colab": {
     "base_uri": "https://localhost:8080/"
    },
    "id": "CqyllsEiz643",
    "outputId": "a9f55287-2adb-44f5-e39d-6f40bf7f5997"
   },
   "outputs": [
    {
     "name": "stdout",
     "output_type": "stream",
     "text": [
      "Using 100% training samples\n",
      "Accuracy : 0.9475\n",
      "Standard deviation: 0.05931905258852336\n",
      "===============================\n",
      "Using 50% training samples\n",
      "Accuracy : 0.9115000000000001\n",
      "Standard deviation: 0.08272091633921859\n"
     ]
    }
   ],
   "source": [
    "import numpy as np\n",
    "\n",
    "acc_100_list = []\n",
    "acc_50_list = []\n",
    "\n",
    "for _ in range(100):\n",
    "\n",
    "    # Using 100% of the training samples\n",
    "    training_data, testing_data = generate_samples(10)\n",
    "    accuracy_100 = svm_training(training_data, testing_data)  # Evaluating on training data\n",
    "    acc_100_list.append(accuracy_100)\n",
    "\n",
    "    # Using 60% of the training samples\n",
    "    training_data, testing_data = generate_samples(5)\n",
    "    accuracy_50 = svm_training(training_data, testing_data)\n",
    "    acc_50_list.append(accuracy_50)\n",
    "\n",
    "print('Using 100% training samples')\n",
    "print('Accuracy : %s' % np.mean(acc_100_list))\n",
    "print('Standard deviation: %s' % np.std(acc_100_list))\n",
    "print('===============================')\n",
    "print('Using 50% training samples')\n",
    "print('Accuracy : %s' % np.mean(acc_50_list))\n",
    "print('Standard deviation: %s' % np.std(acc_50_list))\n"
   ]
  },
  {
   "cell_type": "code",
   "execution_count": null,
   "metadata": {},
   "outputs": [],
   "source": []
  }
 ],
 "metadata": {
  "accelerator": "GPU",
  "colab": {
   "gpuType": "T4",
   "provenance": []
  },
  "kernelspec": {
   "display_name": "Python 3 (ipykernel)",
   "language": "python",
   "name": "python3"
  },
  "language_info": {
   "codemirror_mode": {
    "name": "ipython",
    "version": 3
   },
   "file_extension": ".py",
   "mimetype": "text/x-python",
   "name": "python",
   "nbconvert_exporter": "python",
   "pygments_lexer": "ipython3",
   "version": "3.9.12"
  }
 },
 "nbformat": 4,
 "nbformat_minor": 1
}
