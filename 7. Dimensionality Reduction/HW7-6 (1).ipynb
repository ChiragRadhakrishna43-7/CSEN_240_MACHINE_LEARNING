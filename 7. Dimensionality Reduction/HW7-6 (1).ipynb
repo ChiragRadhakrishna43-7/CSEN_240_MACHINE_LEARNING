{
 "cells": [
  {
   "cell_type": "markdown",
   "metadata": {
    "id": "ml58PJ9UDwRk"
   },
   "source": [
    "## Setup\n",
    "**Linear Discriminant Analysis**\n",
    "\n",
    "You will implement dimensionality reduction with LDA.  \n",
    "\n",
    "1). Read iris_dataset.csv (4 features, hence 4 PCs) and remove the first class\n",
    "\n",
    "2). Find the LDA components\n",
    "\n",
    "3). Recontruct the dataset (X_hat)\n",
    "\n",
    "4). Determine the accuracy of X_hat for 1-4 PCs using a LBF SVM classifier (provided)\n"
   ]
  },
  {
   "cell_type": "code",
   "execution_count": 27,
   "metadata": {
    "id": "b3DA-QxT0O6X"
   },
   "outputs": [],
   "source": [
    "import numpy as np\n",
    "import pandas as pd\n",
    "from numpy import linalg as LA\n",
    "import matplotlib.pyplot as plt\n",
    "from sklearn.svm import SVC # This package will help you run the SVM model directly\n",
    "from sklearn.metrics import accuracy_score # Use accruacy_score to find out accuracy of your model\n",
    "from sklearn.model_selection import train_test_split\n",
    "\n",
    "# Load data - 150 observations, 4 features, 3 classes\n",
    "df = pd.read_csv(\"iris_dataset.csv\", header=None)\n",
    "data = df.values\n",
    "\n",
    "# Remove the first class and change the class index\n",
    "X_raw = data[50:,0:4]               # From 150 to 100 samples\n",
    "y = (np.rint(np.subtract(data[50:,4],2))).astype(int) # From class 2/3 to class 0/1"
   ]
  },
  {
   "cell_type": "markdown",
   "metadata": {
    "id": "9lOKaQBPeZ_D"
   },
   "source": [
    "SVM classifier (with 20% of the data as the test sets)"
   ]
  },
  {
   "cell_type": "code",
   "execution_count": 28,
   "metadata": {
    "id": "osNzDZmuhZ7o"
   },
   "outputs": [],
   "source": [
    "def svm_accuracy(X_hat, y, num_pc):\n",
    "    X_train, X_test, y_train, y_test = train_test_split(X_hat, y, test_size=0.2)\n",
    "\n",
    "    clf = SVC(kernel='linear') # Use the linear function of the SVM algorithm\n",
    "    clf.fit(X_train,y_train) # Train the model using the x_train and y_train\n",
    "    y_pred = clf.predict(X_test) # Run prediction after training on the testing dataset\n",
    "    acc = accuracy_score(y_test,y_pred)\n",
    "    print(num_pc, acc)\n",
    "    return acc # Print your final accuracy"
   ]
  },
  {
   "cell_type": "markdown",
   "metadata": {
    "id": "9hIH0w1xe6mc"
   },
   "source": [
    "LDA (Your code goes here)"
   ]
  },
  {
   "cell_type": "code",
   "execution_count": 29,
   "metadata": {
    "id": "vYl3DwfTmAsg"
   },
   "outputs": [],
   "source": [
    "# 2-class LDA\n",
    "def LDA(X, y, Num_PC):\n",
    "    # Note that the matrix X in the program is transpose of that in the slides\n",
    "    # Note that eigenvectors in the program is transpose of those in the slides\n",
    "    # Setup\n",
    "    dim = len(X[0])\n",
    "    sum = np.zeros((2,dim))\n",
    "    means = np.zeros((2,dim))\n",
    "    count = np.zeros(2)\n",
    "    Sw = np.zeros((dim,dim))\n",
    "    \n",
    "    # To-Do\n",
    "    # First, compute class means\n",
    "    class_labels = np.unique(y)\n",
    "    for i in range(len(X)):\n",
    "        sum[y[i]] += X[i]\n",
    "        count[y[i]] += 1\n",
    "    means = sum / count[:, np.newaxis]\n",
    "    # Second, compute within-class scatter matrix (Sw)\n",
    "    for i in range(len(X)):\n",
    "        xi = X[i].reshape(-1, 1)\n",
    "        mean_vec = means[y[i]].reshape(-1, 1)\n",
    "        Sw += (xi - mean_vec).dot((xi - mean_vec).T)\n",
    "    # Third, compute between-class scatter matrix (Sb)\n",
    "    overall_mean = np.mean(X, axis=0).reshape(-1, 1)\n",
    "    Sb = np.zeros((dim, dim))\n",
    "    for i in range(len(class_labels)):\n",
    "        n = count[i]\n",
    "        mean_vec = means[i].reshape(-1, 1)\n",
    "        Sb += n * (mean_vec - overall_mean).dot((mean_vec - overall_mean).T)\n",
    "    # Fourth, compute Fisher's criterion matrix using LA.pinv() to invert Sw\n",
    "    Sw_inv = LA.pinv(Sw)\n",
    "    Fisher_criterion = Sw_inv.dot(Sb)\n",
    "    # Fifth, compute the eigenvalues & eigenvectors of Fisher's criterion matrix\n",
    "    eigen_values, eigen_vectors = np.linalg.eig(Fisher_criterion)\n",
    "    # Sixth, sort the eigenvalues & eigenvectors in descending order\n",
    "    sorted_indices = np.argsort(eigen_values)[::-1]\n",
    "    eigen_values = eigen_values[sorted_indices]\n",
    "    eigen_vectors = eigen_vectors[:, sorted_indices]\n",
    "    # Seventh, transform the data by selecting the first Num_PC eigenvectors to achieve the desired dimension of our final reduced data.\n",
    "    W = eigen_vectors[:, :Num_PC]\n",
    "    X_reduced = X.dot(W)\n",
    "    return X_reduced"
   ]
  },
  {
   "cell_type": "code",
   "execution_count": 30,
   "metadata": {
    "id": "O-L8WvJIAKeY"
   },
   "outputs": [
    {
     "data": {
      "image/png": "[encoded data removed]",
      "text/plain": [
       "<Figure size 576x432 with 1 Axes>"
      ]
     },
     "metadata": {
      "needs_background": "light"
     },
     "output_type": "display_data"
    },
    {
     "name": "stdout",
     "output_type": "stream",
     "text": [
      "1 1.0\n",
      "1 1.0\n",
      "1 0.95\n",
      "1 1.0\n",
      "1 0.95\n",
      "1 1.0\n",
      "1 0.95\n",
      "1 0.95\n",
      "1 1.0\n",
      "1 0.85\n",
      "Value:  [1.0, 1.0, 0.95, 1.0, 0.95, 1.0, 0.95, 0.95, 1.0, 0.85]\n",
      "average accuracy:  0.9650000000000001\n",
      "2 1.0\n",
      "2 1.0\n",
      "2 1.0\n",
      "2 1.0\n",
      "2 0.95\n",
      "2 0.95\n",
      "2 0.95\n",
      "2 0.9\n",
      "2 0.9\n",
      "2 0.95\n",
      "Value:  [1.0, 1.0, 1.0, 1.0, 0.95, 0.95, 0.95, 0.9, 0.9, 0.95]\n",
      "average accuracy:  0.96\n",
      "3 1.0\n",
      "3 1.0\n",
      "3 0.95\n",
      "3 0.9\n",
      "3 1.0\n",
      "3 0.95\n",
      "3 0.95\n",
      "3 1.0\n",
      "3 1.0\n",
      "3 1.0\n",
      "Value:  [1.0, 1.0, 0.95, 0.9, 1.0, 0.95, 0.95, 1.0, 1.0, 1.0]\n",
      "average accuracy:  0.975\n",
      "4 1.0\n",
      "4 1.0\n",
      "4 0.95\n",
      "4 1.0\n",
      "4 0.95\n",
      "4 0.95\n",
      "4 0.95\n",
      "4 1.0\n",
      "4 0.95\n",
      "4 1.0\n",
      "Value:  [1.0, 1.0, 0.95, 1.0, 0.95, 0.95, 0.95, 1.0, 0.95, 1.0]\n",
      "average accuracy:  0.975\n"
     ]
    }
   ],
   "source": [
    "# Perform zero means\n",
    "u = [np.mean(X_raw[:,0]), np.mean(X_raw[:,1]), np.mean(X_raw[:,2]), np.mean(X_raw[:,3])]\n",
    "XM = np.subtract(X_raw,u)  # Subtracting the mean from each feature\n",
    "\n",
    "# Visualize the dataset with the projection to 2 principal components\n",
    "X_lda = LDA(XM, y, 2)  # Applying LDA with 2 components\n",
    "\n",
    "plt.figure(figsize=(8,6))\n",
    "\n",
    "# Scatter plot for class 0\n",
    "plt.scatter(X_lda[0:50,0], X_lda[0:50,1], color='green', marker='o', label='0')\n",
    "\n",
    "# Scatter plot for class 1\n",
    "plt.scatter(X_lda[50:100,0], X_lda[50:100,1], color='blue', marker='s', label='1')\n",
    "\n",
    "plt.title(\"LDA components plot for IRIS Dataset\", fontsize=14)\n",
    "plt.legend()\n",
    "plt.show()\n",
    "\n",
    "# Measuring the accuracy vs. the number of components\n",
    "for i in range(4):\n",
    "  acc_list = []\n",
    "  num_pc = i+1\n",
    "  X_hat = LDA(XM, y, num_pc) # Applying PCA with the current number of components\n",
    "  for r in range(10):\n",
    "    # Call the function evaluate_accuracy\n",
    "    accuracy = svm_accuracy(X_hat, y, num_pc)  # classification accuracy with 1-4 PC\n",
    "    acc_list.append(accuracy) \n",
    "  average_acc = np.mean(acc_list)\n",
    "  print('Value: ', acc_list)\n",
    "  print('average accuracy: ', average_acc)"
   ]
  },
  {
   "cell_type": "code",
   "execution_count": null,
   "metadata": {},
   "outputs": [],
   "source": []
  }
 ],
 "metadata": {
  "colab": {
   "provenance": []
  },
  "gpuClass": "standard",
  "kernelspec": {
   "display_name": "Python 3 (ipykernel)",
   "language": "python",
   "name": "python3"
  },
  "language_info": {
   "codemirror_mode": {
    "name": "ipython",
    "version": 3
   },
   "file_extension": ".py",
   "mimetype": "text/x-python",
   "name": "python",
   "nbconvert_exporter": "python",
   "pygments_lexer": "ipython3",
   "version": "3.9.12"
  }
 },
 "nbformat": 4,
 "nbformat_minor": 1
}
