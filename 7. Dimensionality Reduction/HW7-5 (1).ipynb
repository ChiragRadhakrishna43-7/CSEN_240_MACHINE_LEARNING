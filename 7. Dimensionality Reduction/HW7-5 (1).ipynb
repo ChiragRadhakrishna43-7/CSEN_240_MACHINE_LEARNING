{
 "cells": [
  {
   "cell_type": "markdown",
   "metadata": {
    "id": "ml58PJ9UDwRk"
   },
   "source": [
    "**Principal Component Analysis**\n",
    "\n",
    "You will implement dimensionality reduction with PCA.  \n",
    "\n",
    "1). Read iris_dataset.csv (4 features, hence 4 PCs) and remove the first class\n",
    "\n",
    "2). Find the principal components\n",
    "\n",
    "3). Recontruct the dataset (X_hat)\n",
    "\n",
    "4). Determine the accuracy of X_hat for 1-4 PCs using a LBF SVM classifier (provided)\n"
   ]
  },
  {
   "cell_type": "code",
   "execution_count": 1,
   "metadata": {
    "id": "b3DA-QxT0O6X"
   },
   "outputs": [],
   "source": [
    "import numpy as np\n",
    "import pandas as pd\n",
    "from numpy import linalg as LA\n",
    "import matplotlib.pyplot as plt\n",
    "from sklearn.svm import SVC # This package will help you run the SVM model directly\n",
    "from sklearn.metrics import accuracy_score # Use accruacy_score to find out accuracy of your model\n",
    "from sklearn.model_selection import train_test_split\n",
    "\n",
    "# Load data - 150 observations, 4 features, 3 classes \n",
    "df = pd.read_csv(\"iris_dataset.csv\", header=None)\n",
    "data = df.values\n",
    "\n",
    "# Remove the first class and change the class index\n",
    "X_raw = data[50:,0:4]               # From 150 to 100 samples\n",
    "y = np.subtract(data[50:,4],2)  # From class 2/3 to class 0/1"
   ]
  },
  {
   "cell_type": "markdown",
   "metadata": {
    "id": "EXUbvn1ze49w"
   },
   "source": [
    "SVM classifier (with 20% of the data as the test sets)"
   ]
  },
  {
   "cell_type": "code",
   "execution_count": 2,
   "metadata": {
    "id": "G6VJ3UXn-X3v"
   },
   "outputs": [],
   "source": [
    "def svm_accuracy(X_hat, y, num_pc):\n",
    "    X_train, X_test, y_train, y_test = train_test_split(X_hat, y, test_size=0.2)\n",
    "\n",
    "    clf = SVC(kernel='linear') # Use the linear function of the SVM algorithm\n",
    "    clf.fit(X_train,y_train) # Train the model using the x_train and y_train\n",
    "    y_pred = clf.predict(X_test) # Run prediction after training on the testing dataset\n",
    "    acc = accuracy_score(y_test,y_pred)\n",
    "    print(num_pc, acc) # Print your final accuracy\n",
    "    return acc"
   ]
  },
  {
   "cell_type": "markdown",
   "metadata": {
    "id": "ceZTciFpe-ZO"
   },
   "source": [
    "PCA (Your code goes here)"
   ]
  },
  {
   "cell_type": "code",
   "execution_count": 3,
   "metadata": {
    "id": "Eg7QAhj2y9w4"
   },
   "outputs": [],
   "source": [
    "def PCA(X, Num_PC):\n",
    "    # Note that the matrix X in the program is transpose of that in the slides\n",
    "    # Note that eigenvectors in the program is transpose of those in the slides\n",
    "    \n",
    "    # To-Do\n",
    "    # First, compute the the covariance matrix\n",
    "    covariance_matrix = np.matmul(X.T, X)\n",
    "    # Second, use LA.eig to compute the eigen_values, eigen_vectors\n",
    "    eigen_values, eigen_vectors = LA.eig(covariance_matrix)\n",
    "    # Third, sort the eigenvalues/the eigvenvectors in descending order\n",
    "    sorted_array = np.argsort(eigen_values)[::-1]\n",
    "    eigen_values = eigen_values[sorted_array]\n",
    "    eigen_vectors = eigen_vectors[sorted_array]\n",
    "    # Fourth, select the first Num_PC eigenvectors\n",
    "    first_num_pc = eigen_vectors[:Num_PC].T\n",
    "    # Fifth, transform the data into the desired dimension  \n",
    "    X_reduced = np.dot(X, first_num_pc)\n",
    "    return X_reduced"
   ]
  },
  {
   "cell_type": "code",
   "execution_count": 4,
   "metadata": {
    "id": "O-L8WvJIAKeY"
   },
   "outputs": [
    {
     "data": {
      "image/png": "[encoded data removed]",
      "text/plain": [
       "<Figure size 576x432 with 1 Axes>"
      ]
     },
     "metadata": {
      "needs_background": "light"
     },
     "output_type": "display_data"
    },
    {
     "name": "stdout",
     "output_type": "stream",
     "text": [
      "1 0.85\n",
      "1 0.75\n",
      "1 0.75\n",
      "1 0.8\n",
      "1 0.75\n",
      "1 0.7\n",
      "1 0.7\n",
      "1 0.85\n",
      "1 0.8\n",
      "1 0.95\n",
      "Value:  [0.85, 0.75, 0.75, 0.8, 0.75, 0.7, 0.7, 0.85, 0.8, 0.95]\n",
      "average accuracy:  0.79\n",
      "2 0.95\n",
      "2 0.9\n",
      "2 0.9\n",
      "2 0.85\n",
      "2 0.85\n",
      "2 0.85\n",
      "2 0.9\n",
      "2 0.95\n",
      "2 0.75\n",
      "2 0.9\n",
      "Value:  [0.95, 0.9, 0.9, 0.85, 0.85, 0.85, 0.9, 0.95, 0.75, 0.9]\n",
      "average accuracy:  0.8800000000000001\n",
      "3 1.0\n",
      "3 0.9\n",
      "3 0.95\n",
      "3 0.95\n",
      "3 1.0\n",
      "3 0.95\n",
      "3 0.95\n",
      "3 0.85\n",
      "3 1.0\n",
      "3 1.0\n",
      "Value:  [1.0, 0.9, 0.95, 0.95, 1.0, 0.95, 0.95, 0.85, 1.0, 1.0]\n",
      "average accuracy:  0.9550000000000001\n",
      "4 1.0\n",
      "4 1.0\n",
      "4 1.0\n",
      "4 0.95\n",
      "4 0.95\n",
      "4 0.95\n",
      "4 0.9\n",
      "4 0.95\n",
      "4 0.95\n",
      "4 0.95\n",
      "Value:  [1.0, 1.0, 1.0, 0.95, 0.95, 0.95, 0.9, 0.95, 0.95, 0.95]\n",
      "average accuracy:  0.96\n"
     ]
    }
   ],
   "source": [
    "# Perform zero means\n",
    "u = [np.mean(X_raw[:,0]), np.mean(X_raw[:,1]), np.mean(X_raw[:,2]), np.mean(X_raw[:,3])]\n",
    "XM = np.subtract(X_raw,u)  # Subtracting the mean from each feature\n",
    "\n",
    "# Visualize the dataset with the projection to 2 principal components\n",
    "X_pca = PCA(XM,2)  # Applying PCA with 2 components\n",
    "\n",
    "plt.figure(figsize=(8,6))\n",
    "\n",
    "# Scatter plot for class 0\n",
    "plt.scatter(X_pca[0:50,0], X_pca[0:50,1], color='green', marker='o', label='0')\n",
    "\n",
    "# Scatter plot for class 1\n",
    "plt.scatter(X_pca[50:100,0], X_pca[50:100,1], color='blue', marker='s', label='1')\n",
    " \n",
    "plt.title(\"PCA components plot for IRIS Dataset\", fontsize=14)\n",
    "plt.legend()\n",
    "plt.show()\n",
    "\n",
    "# Measuring the accuracy vs. the number of components\n",
    "for i in range(4):\n",
    "    acc_list = []\n",
    "    num_pc = i+1\n",
    "    X_hat = PCA(XM,num_pc) # Applying PCA with the current number of components\n",
    "    for r in range(10):\n",
    "        # Call the function evaluate_accuracy \n",
    "        accuracy = svm_accuracy(X_hat, y, num_pc)  # classification accuracy with 1-4 PC\n",
    "        acc_list.append(accuracy) \n",
    "    average_acc = np.mean(acc_list)\n",
    "    print('Value: ', acc_list)\n",
    "    print('average accuracy: ', average_acc)"
   ]
  },
  {
   "cell_type": "code",
   "execution_count": null,
   "metadata": {},
   "outputs": [],
   "source": []
  }
 ],
 "metadata": {
  "colab": {
   "provenance": []
  },
  "gpuClass": "standard",
  "kernelspec": {
   "display_name": "Python 3 (ipykernel)",
   "language": "python",
   "name": "python3"
  },
  "language_info": {
   "codemirror_mode": {
    "name": "ipython",
    "version": 3
   },
   "file_extension": ".py",
   "mimetype": "text/x-python",
   "name": "python",
   "nbconvert_exporter": "python",
   "pygments_lexer": "ipython3",
   "version": "3.9.12"
  }
 },
 "nbformat": 4,
 "nbformat_minor": 1
}
