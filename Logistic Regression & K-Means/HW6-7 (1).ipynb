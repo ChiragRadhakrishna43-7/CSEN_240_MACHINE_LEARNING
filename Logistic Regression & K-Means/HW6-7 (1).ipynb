{
 "cells": [
  {
   "cell_type": "markdown",
   "metadata": {
    "id": "EGNl9u_WAdqx"
   },
   "source": [
    "# K-means Clustering Algorithm\n",
    "\n",
    "You will implement the K-means unsupervised learning algorithm.\n",
    "\n",
    "Use the simplified Iris dataset provided to test your code.\n",
    "\n",
    "Column 1: sepal length.\n",
    "Column 2: sepal width   \n"
   ]
  },
  {
   "cell_type": "code",
   "execution_count": 1,
   "metadata": {
    "id": "NkmBxlIAAdq4"
   },
   "outputs": [],
   "source": [
    "import numpy as np\n",
    "import pandas as pd\n",
    "from copy import deepcopy\n",
    "from matplotlib import pyplot as plt\n"
   ]
  },
  {
   "cell_type": "code",
   "execution_count": 2,
   "metadata": {
    "id": "4IZgzlQHXOPl"
   },
   "outputs": [],
   "source": [
    "# Ploting clustering results in colors\n",
    "def plot_clusters(X, clusters, centroids):\n",
    "    colors = ['r', 'g', 'b', 'y', 'c', 'm']\n",
    "    k,_ = np.shape(centroids)\n",
    "\n",
    "    fig, ax = plt.subplots()\n",
    "    for i in range(k):\n",
    "        points = np.array([X[j] for j in range(len(X)) if clusters[j] == i])\n",
    "        plt.scatter(points[:, 0], points[:, 1], s=7, c=colors[i])\n",
    "\n",
    "    plt.scatter(centroids[:,0], centroids[:,1], marker='*', s=150, c='y')"
   ]
  },
  {
   "cell_type": "markdown",
   "metadata": {
    "id": "sTeu3L1bKbWM"
   },
   "source": [
    "# K-means algorithm"
   ]
  },
  {
   "cell_type": "code",
   "execution_count": 3,
   "metadata": {
    "id": "CxpDB3kpKatz"
   },
   "outputs": [],
   "source": [
    "# To simplify the implementation, hard-code the number of clusters to 2\n",
    "\n",
    "def kmeans(X):\n",
    "  k=2\n",
    "  N = len(X)\n",
    "  ctr1 = X[(np.random.randint(0,N)),:]   # Randomly select initial centroid 1\n",
    "  ctr2 = X[(np.random.randint(0,N)),:]   # Randomly select initial centroid 2\n",
    "\n",
    "  centroids = np.array(list(zip(ctr1, ctr2)), dtype=np.float32)  # Create an array of centroids for each cluster\n",
    "  clusters = np.zeros(len(X))   # Initialize the clusters\n",
    "\n",
    "  MAX_ITR = 100   # Define the maximum number of iterations\n",
    "  update = deepcopy(centroids)   # Deep copy the centroids array to update it later\n",
    "\n",
    "  for itr in range(MAX_ITR):\n",
    "    sum0 , sum1 = np.zeros(2) , np.zeros(2)\n",
    "    count0 , count1 = 0 , 0\n",
    "    for i in range(len(X)):\n",
    "      # To-do: calculate the distances of X[i] to two cluster centers \n",
    "      dist0 = np.linalg.norm(X[i] - centroids[0])\n",
    "      dist1 = np.linalg.norm(X[i] - centroids[1])\n",
    "      if dist0 < dist1:# To-do: compare the distances\n",
    "            # Step 1: Assing each data point to the closest cluster\n",
    "            # To-do: Assign the data point to cluster 0\n",
    "            clusters[i] = 0\n",
    "            # Step 2: Cluster-center update\n",
    "            # To-do: Sum up all data points assigned to cluster 0\n",
    "            sum0 += X[i]\n",
    "            count0 += 1\n",
    "      else:\n",
    "        # Step 1: Assing each data point to the closest cluster\n",
    "        # To-do: Assign the data point to cluster 1\n",
    "        clusters[i] = 1\n",
    "        # Step 2: Cluster-center update\n",
    "        # To-do: Assign the data point to cluster 1\n",
    "        sum1 += X[i]\n",
    "        count1 += 1\n",
    "    update[0][0] = sum0[0]/count0   # Calculate the new centroid for cluster 0\n",
    "    update[0][1] = sum0[1]/count0\n",
    "    update[1][0] = sum1[0]/count1   # Calculate the new centroid for cluster 1\n",
    "    update[1][1] = sum1[1]/count1\n",
    "\n",
    "    # To-do: implement the early stop criterion via comparing centroids and updates. \n",
    "    # if centroids and updates are the same, it means no new membership changes, then we can stop\n",
    "    if np.array_equal(centroids, update):\n",
    "        break\n",
    "    else:\n",
    "        centroids = deepcopy(update)\n",
    "    # if centroids and updates are different, we need to change the centroids. \n",
    "\n",
    "  print('Algorithm converges after {} iterations'. format(itr))   # Print the number of iterations taken to converge\n",
    "  return clusters, centroids   # Return the cluster assignments and centroids"
   ]
  },
  {
   "cell_type": "code",
   "execution_count": 4,
   "metadata": {
    "colab": {
     "base_uri": "https://localhost:8080/",
     "height": 867
    },
    "executionInfo": {
     "elapsed": 637,
     "status": "ok",
     "timestamp": 1683782157969,
     "user": {
      "displayName": "Yen-Kuang Chen",
      "userId": "09824706370308406166"
     },
     "user_tz": 420
    },
    "id": "fjNr8M46T49j",
    "outputId": "d29922bc-efb0-4eb1-c0dd-c13f7c3d8a8d"
   },
   "outputs": [
    {
     "name": "stdout",
     "output_type": "stream",
     "text": [
      "Algorithm converges after 6 iterations\n"
     ]
    },
    {
     "data": {
      "image/png": "[encoded data removed]",
      "text/plain": [
       "<Figure size 432x288 with 1 Axes>"
      ]
     },
     "metadata": {
      "needs_background": "light"
     },
     "output_type": "display_data"
    },
    {
     "data": {
      "image/png": "[encoded data removed]",
      "text/plain": [
       "<Figure size 432x288 with 1 Axes>"
      ]
     },
     "metadata": {
      "needs_background": "light"
     },
     "output_type": "display_data"
    }
   ],
   "source": [
    "# Load dataset and plot it\n",
    "df = pd.read_csv(\"simple_iris_dataset.csv\")\n",
    "\n",
    "df1 = df['sepal_length'].values\n",
    "df2 = df['sepal_width'].values\n",
    "X = np.array(list(zip(df1, df2)))   # 100 x 2\n",
    "plt.scatter(df1, df2, c='black', s=7)\n",
    "# print(X.shape)\n",
    "\n",
    "# Call the function to find the clusters and centroids\n",
    "clusters, centroids = kmeans(X)   \n",
    "\n",
    "# Plot the clusters and centroids\n",
    "plot_clusters(X, clusters, centroids)   \n"
   ]
  },
  {
   "cell_type": "code",
   "execution_count": null,
   "metadata": {},
   "outputs": [],
   "source": []
  }
 ],
 "metadata": {
  "anaconda-cloud": {},
  "colab": {
   "provenance": []
  },
  "kernelspec": {
   "display_name": "Python 3 (ipykernel)",
   "language": "python",
   "name": "python3"
  },
  "language_info": {
   "codemirror_mode": {
    "name": "ipython",
    "version": 3
   },
   "file_extension": ".py",
   "mimetype": "text/x-python",
   "name": "python",
   "nbconvert_exporter": "python",
   "pygments_lexer": "ipython3",
   "version": "3.9.12"
  }
 },
 "nbformat": 4,
 "nbformat_minor": 1
}
